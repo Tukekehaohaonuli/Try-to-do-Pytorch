{
 "cells": [
  {
   "cell_type": "code",
   "execution_count": 1,
   "metadata": {},
   "outputs": [],
   "source": [
    "import torch\n",
    "from torch import nn\n",
    "class MLP(nn.Module):\n",
    "    def __init__(self,**kwargs):\n",
    "        super(MLP,self).__init__(**kwargs)\n",
    "        self.hidden=nn.Linear(784,256)\n",
    "        self.act=nn.ReLU()\n",
    "        self.output=nn.Linear(256,10)\n",
    "        \n",
    "    def forward(self,x):\n",
    "        a=self.act(self.hidden(x))\n",
    "        return self.output(a)\n",
    "        "
   ]
  },
  {
   "cell_type": "code",
   "execution_count": 2,
   "metadata": {},
   "outputs": [
    {
     "name": "stdout",
     "output_type": "stream",
     "text": [
      "MLP(\n",
      "  (hidden): Linear(in_features=784, out_features=256, bias=True)\n",
      "  (act): ReLU()\n",
      "  (output): Linear(in_features=256, out_features=10, bias=True)\n",
      ")\n"
     ]
    },
    {
     "data": {
      "text/plain": [
       "tensor([[ 0.0484, -0.2463, -0.1467, -0.0273, -0.1938, -0.0521,  0.0093,  0.0358,\n",
       "          0.1821, -0.1083],\n",
       "        [-0.0144, -0.1516, -0.2559,  0.0202, -0.1602, -0.1005, -0.0199,  0.0322,\n",
       "         -0.0060, -0.1127]], grad_fn=<AddmmBackward>)"
      ]
     },
     "execution_count": 2,
     "metadata": {},
     "output_type": "execute_result"
    }
   ],
   "source": [
    "X=torch.rand(2,784)\n",
    "net=MLP()\n",
    "print(net)\n",
    "net(X)"
   ]
  },
  {
   "cell_type": "code",
   "execution_count": 3,
   "metadata": {},
   "outputs": [
    {
     "name": "stdout",
     "output_type": "stream",
     "text": [
      "Mysequential(\n",
      "  (0): Linear(in_features=784, out_features=256, bias=True)\n",
      "  (1): ReLU()\n",
      "  (2): Linear(in_features=256, out_features=10, bias=True)\n",
      ")\n"
     ]
    },
    {
     "data": {
      "text/plain": [
       "tensor([[ 0.1295, -0.1517,  0.0704, -0.0858,  0.0383,  0.2601,  0.0885, -0.0918,\n",
       "          0.1700, -0.1933],\n",
       "        [ 0.0622, -0.1256,  0.0137, -0.1767, -0.0135,  0.2021,  0.0188, -0.0389,\n",
       "          0.1095, -0.0642]], grad_fn=<AddmmBackward>)"
      ]
     },
     "execution_count": 3,
     "metadata": {},
     "output_type": "execute_result"
    }
   ],
   "source": [
    "#\n",
    "class Mysequential(nn.Module):\n",
    "    from collections import OrderedDict\n",
    "    def __init__(self,*args):\n",
    "        super(Mysequential,self).__init__()\n",
    "        if len(args)==1 and isinstance(args[0],OrderedDict):\n",
    "            for key,module in args[0].item():\n",
    "                self.add_module(key,module)\n",
    "                \n",
    "        else:\n",
    "            for idx,module in enumerate(args):\n",
    "                self.add_module(str(idx),module)\n",
    "    def forward(self,input):\n",
    "        for module in self._modules.values():\n",
    "            input=module(input)\n",
    "            \n",
    "        return input\n",
    "    \n",
    "net=Mysequential(\n",
    "    nn.Linear(784,256),\n",
    "    nn.ReLU(),\n",
    "    nn.Linear(256,10)\n",
    "    )\n",
    "print(net)\n",
    "net(X)"
   ]
  },
  {
   "cell_type": "code",
   "execution_count": 4,
   "metadata": {},
   "outputs": [
    {
     "name": "stdout",
     "output_type": "stream",
     "text": [
      "Linear(in_features=256, out_features=10, bias=True)\n",
      "ModuleList(\n",
      "  (0): Linear(in_features=784, out_features=256, bias=True)\n",
      "  (1): ReLU()\n",
      "  (2): Linear(in_features=256, out_features=10, bias=True)\n",
      ")\n"
     ]
    }
   ],
   "source": [
    "net=nn.ModuleList([nn.Linear(784,256),nn.ReLU()])\n",
    "net.append(nn.Linear(256,10))\n",
    "print(net[-1])\n",
    "print(net)"
   ]
  },
  {
   "cell_type": "code",
   "execution_count": 5,
   "metadata": {},
   "outputs": [],
   "source": [
    "\n",
    "class MyModule(nn.Module):\n",
    "    def __init__(self):\n",
    "        super(MyModule,self).__init__()\n",
    "        self.linears=nn.ModuleList([nn.Linear(10,10) for i in range(10)])\n",
    "        \n",
    "    def forward(self,x):\n",
    "        for i, l in enumerate(self.linears):\n",
    "            x=self.linears[i//2]+l(x)\n",
    "        return x"
   ]
  },
  {
   "cell_type": "code",
   "execution_count": 8,
   "metadata": {},
   "outputs": [
    {
     "name": "stdout",
     "output_type": "stream",
     "text": [
      "net1:\n",
      "Parameter containing:\n",
      "tensor([[ 0.0426,  0.1676, -0.1427,  0.0321,  0.1272, -0.1238,  0.1770, -0.0335,\n",
      "         -0.2738, -0.2786],\n",
      "        [ 0.2544,  0.0163, -0.2005, -0.2130,  0.2521,  0.0409, -0.2425, -0.1728,\n",
      "          0.1518,  0.1115],\n",
      "        [ 0.2211,  0.3043,  0.1024,  0.2533,  0.0879,  0.2876,  0.0802, -0.1489,\n",
      "          0.3094, -0.0279],\n",
      "        [ 0.0685,  0.2148, -0.1651, -0.2029, -0.2079,  0.2234,  0.2062, -0.2956,\n",
      "         -0.1894, -0.1502],\n",
      "        [ 0.0826, -0.1959, -0.1569,  0.2419, -0.0631,  0.0362, -0.1984, -0.2073,\n",
      "          0.2421,  0.1409],\n",
      "        [ 0.2138, -0.0451, -0.2710,  0.2875, -0.0397,  0.0665,  0.0344, -0.1998,\n",
      "          0.2912, -0.1304],\n",
      "        [ 0.2430,  0.2812, -0.0209, -0.1971,  0.2747, -0.2163,  0.1714,  0.0658,\n",
      "          0.2825, -0.2068],\n",
      "        [-0.0017, -0.0654, -0.2719,  0.1883,  0.2028,  0.2221,  0.0292,  0.2565,\n",
      "         -0.0484,  0.0004],\n",
      "        [-0.1818,  0.2281,  0.2876, -0.0765, -0.0481, -0.2560, -0.1784,  0.1848,\n",
      "          0.2501, -0.2704],\n",
      "        [-0.2391, -0.3009,  0.1346,  0.0133, -0.1040,  0.2798,  0.1460,  0.3009,\n",
      "         -0.0309, -0.0511]], requires_grad=True) torch.Size([10, 10])\n",
      "Parameter containing:\n",
      "tensor([ 0.0632,  0.0047,  0.0615,  0.0421,  0.1766,  0.0352,  0.0158,  0.0499,\n",
      "        -0.2176, -0.2092], requires_grad=True) torch.Size([10])\n",
      "net2:\n"
     ]
    }
   ],
   "source": [
    "class Module_ModuleList(nn.Module):\n",
    "    def __init__(self):\n",
    "        super(Module_ModuleList,self).__init__()\n",
    "        self.linear=nn.ModuleList([nn.Linear(10,10)])\n",
    "        \n",
    "class Module_List(nn.Module):\n",
    "    def __init__(self):\n",
    "        super(Module_List,self).__init__()\n",
    "        self.linears=[nn.Linear(10,10)]\n",
    "        \n",
    "net1=Module_ModuleList()\n",
    "net2=Module_List()\n",
    "print('net1:')\n",
    "for p in net1.parameters():\n",
    "    print(p,p.size())\n",
    "    \n",
    "print('net2:')\n",
    "for p in net2.parameters():\n",
    "    print(p,p.size())"
   ]
  },
  {
   "cell_type": "code",
   "execution_count": 10,
   "metadata": {},
   "outputs": [
    {
     "name": "stdout",
     "output_type": "stream",
     "text": [
      "Linear(in_features=784, out_features=256, bias=True)\n",
      "Linear(in_features=256, out_features=10, bias=True)\n",
      "ReLU()\n",
      "ModuleDict(\n",
      "  (act): ReLU()\n",
      "  (linear): Linear(in_features=784, out_features=256, bias=True)\n",
      "  (output): Linear(in_features=256, out_features=10, bias=True)\n",
      ")\n"
     ]
    }
   ],
   "source": [
    "net=nn.ModuleDict({\n",
    "    'linear':nn.Linear(784,256),\n",
    "    'act':nn.ReLU(),\n",
    "})\n",
    "net['output']=nn.Linear(256,10)\n",
    "print(net['linear'])\n",
    "print(net.output)\n",
    "print(net.act)\n",
    "print(net)"
   ]
  },
  {
   "cell_type": "code",
   "execution_count": 11,
   "metadata": {},
   "outputs": [],
   "source": [
    "class FancyMLP(nn.Module):\n",
    "    def __init__(self,**kwargs):\n",
    "        super(FancyMLP,self).__init__(**kwargs)\n",
    "        \n",
    "        self.rand_weight=torch.rand((20,20),requires_grad=False)\n",
    "        self.linear=nn.Linear(20,20)\n",
    "        \n",
    "    def forward(self,X):\n",
    "        x=self.linear(X)\n",
    "        x=nn.functional.relu(torch.mm(x,self.rand_weight.data)+1)\n",
    "        \n",
    "        x=self.linear(x)\n",
    "        \n",
    "        while x.norm().item()>1:\n",
    "            x/=2\n",
    "        if x.norm().item()<0.8:\n",
    "            x*=10\n",
    "        return x.sum()\n",
    "    "
   ]
  },
  {
   "cell_type": "code",
   "execution_count": 12,
   "metadata": {},
   "outputs": [
    {
     "name": "stdout",
     "output_type": "stream",
     "text": [
      "FancyMLP(\n",
      "  (linear): Linear(in_features=20, out_features=20, bias=True)\n",
      ")\n"
     ]
    },
    {
     "data": {
      "text/plain": [
       "tensor(-8.6338, grad_fn=<SumBackward0>)"
      ]
     },
     "execution_count": 12,
     "metadata": {},
     "output_type": "execute_result"
    }
   ],
   "source": [
    "X=torch.rand(2,20)\n",
    "net=FancyMLP()\n",
    "print(net)\n",
    "net(X)"
   ]
  },
  {
   "cell_type": "code",
   "execution_count": 15,
   "metadata": {},
   "outputs": [
    {
     "name": "stdout",
     "output_type": "stream",
     "text": [
      "Sequential(\n",
      "  (0): NestMLP(\n",
      "    (net): Sequential(\n",
      "      (0): Linear(in_features=40, out_features=30, bias=True)\n",
      "      (1): ReLU()\n",
      "    )\n",
      "  )\n",
      "  (1): Linear(in_features=30, out_features=20, bias=True)\n",
      "  (2): FancyMLP(\n",
      "    (linear): Linear(in_features=20, out_features=20, bias=True)\n",
      "  )\n",
      ")\n"
     ]
    },
    {
     "data": {
      "text/plain": [
       "tensor(9.7763, grad_fn=<SumBackward0>)"
      ]
     },
     "execution_count": 15,
     "metadata": {},
     "output_type": "execute_result"
    }
   ],
   "source": [
    "class NestMLP(nn.Module):\n",
    "    def __init__(self,**kwargs):\n",
    "        super(NestMLP,self).__init__(**kwargs)\n",
    "        self.net=nn.Sequential(nn.Linear(40,30),nn.ReLU())\n",
    "    def forward(self,x):\n",
    "        return self.net(x)\n",
    "    \n",
    "net=nn.Sequential(NestMLP(),nn.Linear(30,20),FancyMLP())\n",
    "\n",
    "X=torch.rand(2,40)\n",
    "print(net)\n",
    "net(X)\n",
    "    "
   ]
  },
  {
   "cell_type": "code",
   "execution_count": null,
   "metadata": {},
   "outputs": [],
   "source": []
  }
 ],
 "metadata": {
  "kernelspec": {
   "display_name": "Python 3",
   "language": "python",
   "name": "python3"
  },
  "language_info": {
   "codemirror_mode": {
    "name": "ipython",
    "version": 3
   },
   "file_extension": ".py",
   "mimetype": "text/x-python",
   "name": "python",
   "nbconvert_exporter": "python",
   "pygments_lexer": "ipython3",
   "version": "3.7.6"
  }
 },
 "nbformat": 4,
 "nbformat_minor": 4
}
