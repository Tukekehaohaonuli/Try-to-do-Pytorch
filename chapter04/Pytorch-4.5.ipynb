{
 "cells": [
  {
   "cell_type": "code",
   "execution_count": 3,
   "metadata": {},
   "outputs": [
    {
     "data": {
      "text/plain": [
       "tensor([1., 1., 1.])"
      ]
     },
     "execution_count": 3,
     "metadata": {},
     "output_type": "execute_result"
    }
   ],
   "source": [
    "import torch \n",
    "from torch import nn\n",
    "x=torch.ones(3)\n",
    "torch.save(x,'x.pt')\n",
    "x2=torch.load('x.pt')\n",
    "x2"
   ]
  },
  {
   "cell_type": "code",
   "execution_count": 4,
   "metadata": {},
   "outputs": [
    {
     "data": {
      "text/plain": [
       "[tensor([1., 1., 1.]), tensor([0., 0., 0., 0.])]"
      ]
     },
     "execution_count": 4,
     "metadata": {},
     "output_type": "execute_result"
    }
   ],
   "source": [
    "y=torch.zeros(4)\n",
    "torch.save([x,y],'xy.pt')\n",
    "xy_list=torch.load('xy.pt')\n",
    "xy_list"
   ]
  },
  {
   "cell_type": "code",
   "execution_count": 5,
   "metadata": {},
   "outputs": [
    {
     "data": {
      "text/plain": [
       "{'x': tensor([1., 1., 1.]), 'y': tensor([0., 0., 0., 0.])}"
      ]
     },
     "execution_count": 5,
     "metadata": {},
     "output_type": "execute_result"
    }
   ],
   "source": [
    "torch.save({'x':x,'y':y},'xy_dict.pt')\n",
    "xy=torch.load('xy_dict.pt')\n",
    "xy"
   ]
  },
  {
   "cell_type": "code",
   "execution_count": 6,
   "metadata": {},
   "outputs": [
    {
     "data": {
      "text/plain": [
       "OrderedDict([('hidden.weight',\n",
       "              tensor([[ 0.2032,  0.1124,  0.0632],\n",
       "                      [ 0.0570,  0.3502, -0.3113]])),\n",
       "             ('hidden.bias', tensor([0.2300, 0.1180])),\n",
       "             ('output.weight', tensor([[-0.0319,  0.4067]])),\n",
       "             ('output.bias', tensor([0.0690]))])"
      ]
     },
     "execution_count": 6,
     "metadata": {},
     "output_type": "execute_result"
    }
   ],
   "source": [
    "class MLP(nn.Module):\n",
    "    def __init__(self):\n",
    "        super(MLP,self).__init__()\n",
    "        self.hidden=nn.Linear(3,2)\n",
    "        self.act=nn.ReLU()\n",
    "        self.output=nn.Linear(2,1)\n",
    "    def forward(self,x):\n",
    "        a=self.act(self.hidden(x))\n",
    "        return self.output(a)\n",
    "    \n",
    "net=MLP()\n",
    "net.state_dict()"
   ]
  },
  {
   "cell_type": "code",
   "execution_count": 7,
   "metadata": {},
   "outputs": [
    {
     "data": {
      "text/plain": [
       "{'state': {},\n",
       " 'param_groups': [{'lr': 0.001,\n",
       "   'momentum': 0.9,\n",
       "   'dampening': 0,\n",
       "   'weight_decay': 0,\n",
       "   'nesterov': False,\n",
       "   'params': [2570740157320, 2570740157400, 2570690751688, 2570740157240]}]}"
      ]
     },
     "execution_count": 7,
     "metadata": {},
     "output_type": "execute_result"
    }
   ],
   "source": [
    "optimizer=torch.optim.SGD(net.parameters(),lr=0.001,momentum=0.9)\n",
    "optimizer.state_dict()"
   ]
  },
  {
   "cell_type": "code",
   "execution_count": 9,
   "metadata": {},
   "outputs": [
    {
     "name": "stdout",
     "output_type": "stream",
     "text": [
      "tensor([[0.0540],\n",
      "        [0.0681]], grad_fn=<AddmmBackward>) 11111111111\n",
      "tensor([[0.0540],\n",
      "        [0.0681]], grad_fn=<AddmmBackward>) 22222222222\n",
      "tensor([[1],\n",
      "        [1]], dtype=torch.uint8)\n"
     ]
    }
   ],
   "source": [
    "X=torch.randn(2,3)\n",
    "Y=net(X)\n",
    "print(Y,'11111111111')\n",
    "PATH=\"./net.pt\"\n",
    "torch.save(net.state_dict(),PATH)\n",
    "\n",
    "net2=MLP()\n",
    "net2.load_state_dict(torch.load(PATH))\n",
    "Y2=net2(X)\n",
    "print(Y2,'22222222222')\n",
    "print(Y2==Y)"
   ]
  },
  {
   "cell_type": "code",
   "execution_count": null,
   "metadata": {},
   "outputs": [],
   "source": []
  }
 ],
 "metadata": {
  "kernelspec": {
   "display_name": "Python 3",
   "language": "python",
   "name": "python3"
  },
  "language_info": {
   "codemirror_mode": {
    "name": "ipython",
    "version": 3
   },
   "file_extension": ".py",
   "mimetype": "text/x-python",
   "name": "python",
   "nbconvert_exporter": "python",
   "pygments_lexer": "ipython3",
   "version": "3.7.6"
  }
 },
 "nbformat": 4,
 "nbformat_minor": 4
}
