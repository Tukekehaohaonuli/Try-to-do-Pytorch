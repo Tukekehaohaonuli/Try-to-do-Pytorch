{
 "cells": [
  {
   "cell_type": "code",
   "execution_count": 2,
   "metadata": {},
   "outputs": [],
   "source": [
    "import time\n",
    "import math\n",
    "import numpy as np\n",
    "import torch\n",
    "from torch import nn,optim\n",
    "import torch.nn.functional as F\n",
    "import sys\n",
    "sys.path.append(\"..\")\n",
    "import d2lzh_pytorch as d2l\n",
    "device=torch.device('cuda' if torch.cuda.is_available() else 'cpu')\n",
    "\n",
    "(corpus_indices,char_to_idx,idx_to_char,vocab_size)=d2l.load_data_jay_lyrics()\n"
   ]
  },
  {
   "cell_type": "code",
   "execution_count": 3,
   "metadata": {},
   "outputs": [
    {
     "data": {
      "text/plain": [
       "tensor([[1., 0., 0.,  ..., 0., 0., 0.],\n",
       "        [0., 0., 1.,  ..., 0., 0., 0.]])"
      ]
     },
     "execution_count": 3,
     "metadata": {},
     "output_type": "execute_result"
    }
   ],
   "source": [
    "#产生bat_size个词的向量\n",
    "def one_hot(x,n_class,dtype=torch.float32):\n",
    "    x=x.long()\n",
    "    res=torch.zeros(x.shape[0],n_class,dtype=dtype,device=x.device)\n",
    "    res.scatter_(1,x.view(-1,1),1)\n",
    "    return res\n",
    "\n",
    "x=torch.tensor([0,2])\n",
    "one_hot(x,vocab_size)"
   ]
  },
  {
   "cell_type": "code",
   "execution_count": 5,
   "metadata": {},
   "outputs": [
    {
     "name": "stdout",
     "output_type": "stream",
     "text": [
      "5 torch.Size([2, 1027])\n"
     ]
    }
   ],
   "source": [
    "#比如（2，5） 即产生5个batch_size个词的列表\n",
    "def to_onehot(X,n_class):\n",
    "    return [one_hot(X[:,i],n_class) for i in range(X.shape[1])]\n",
    "#=\n",
    "X=torch.arange(10).view(2,5)\n",
    "inputs=to_onehot(X,vocab_size)\n",
    "print(len(inputs),inputs[0].shape)"
   ]
  },
  {
   "cell_type": "code",
   "execution_count": 18,
   "metadata": {},
   "outputs": [
    {
     "name": "stdout",
     "output_type": "stream",
     "text": [
      "will use cuda\n"
     ]
    }
   ],
   "source": [
    "num_inputs,num_hiddens,num_outputs=vocab_size,256,vocab_size\n",
    "print('will use',device)\n",
    "\n",
    "def get_params():\n",
    "    def _one(shape):\n",
    "        ts=torch.tensor(np.random.normal(0,0.01,size=shape),device=device,dtype=torch.float32)\n",
    "        return torch.nn.Parameter(ts,requires_grad=True)\n",
    "    \n",
    "    W_xh=_one((num_inputs,num_hiddens))\n",
    "    W_hh=_one((num_hiddens,num_hiddens))\n",
    "    b_h=torch.nn.Parameter(torch.zeros(num_hiddens,device=device,requires_grad=True))\n",
    "    W_hq=_one((num_hiddens,num_outputs))\n",
    "    b_q=torch.nn.Parameter(torch.zeros(num_outputs,device=device,requires_grad=True))\n",
    "    return nn.ParameterList([W_xh,W_hh,b_h,W_hq,b_q])\n"
   ]
  },
  {
   "cell_type": "code",
   "execution_count": 19,
   "metadata": {},
   "outputs": [],
   "source": [
    "def init_rnn_state(batch_size,num_hiddens,device):\n",
    "    return (torch.zeros((batch_size,num_hiddens),device=device),)"
   ]
  },
  {
   "cell_type": "code",
   "execution_count": 22,
   "metadata": {},
   "outputs": [],
   "source": [
    "def rnn(inputs,state,params):\n",
    "    W_xh,W_hh,b_h,W_hq,b_q=params\n",
    "    H, =state  \n",
    "    outputs=[]\n",
    "    for X in inputs:\n",
    "        H=torch.tanh(torch.matmul(X,W_xh)+torch.matmul(H,W_hh)+b_h)\n",
    "        Y=torch.matmul(H,W_hq)+b_q\n",
    "        outputs.append(Y)\n",
    "    return outputs,(H,)"
   ]
  },
  {
   "cell_type": "code",
   "execution_count": 24,
   "metadata": {},
   "outputs": [
    {
     "name": "stdout",
     "output_type": "stream",
     "text": [
      "5 torch.Size([2, 1027]) torch.Size([2, 256])\n"
     ]
    }
   ],
   "source": [
    "state=init_rnn_state(X.shape[0],num_hiddens,device)\n",
    "inputs=to_onehot(X.to(device),vocab_size)\n",
    "params=get_params()\n",
    "outputs,state_new=rnn(inputs,state,params)\n",
    "print(len(outputs),outputs[0].shape,state_new[0].shape)"
   ]
  },
  {
   "cell_type": "code",
   "execution_count": 34,
   "metadata": {},
   "outputs": [],
   "source": [
    "def predict_rnn(prefix,num_chars,rnn,params,init_rnn_state,\n",
    "               num_hiddens,vocab_size,device,idx_to_char,char_to_idx):\n",
    "    state=init_rnn_state(1,num_hiddens,device)\n",
    "    output=[char_to_idx[prefix[0]]]  #首个字符对应的索引\n",
    "    for t in range(num_chars+len(prefix)-1):\n",
    "        X=to_onehot(torch.tensor([[output[-1]]],device=device),vocab_size)\n",
    "        (Y,state)=rnn(X,state,params)\n",
    "        if t<len(prefix)-1:\n",
    "            output.append(char_to_idx[prefix[t+1]])\n",
    "        else:\n",
    "            output.append(int(Y[0].argmax(dim=1).item()))\n",
    "    return ''.join([idx_to_char[i] for i in output])\n"
   ]
  },
  {
   "cell_type": "code",
   "execution_count": 35,
   "metadata": {},
   "outputs": [
    {
     "data": {
      "text/plain": [
       "'分开腿等染狠囱躺怎家边小'"
      ]
     },
     "execution_count": 35,
     "metadata": {},
     "output_type": "execute_result"
    }
   ],
   "source": [
    "predict_rnn('分开',10,rnn,params,init_rnn_state,num_hiddens,vocab_size,\n",
    "           device,idx_to_char,char_to_idx)"
   ]
  },
  {
   "cell_type": "code",
   "execution_count": 36,
   "metadata": {},
   "outputs": [],
   "source": [
    "#假如梯度本身就很小了再缩小不是更会出现梯度衰减的情况么??\n",
    "def grad_clipping(params,theta,device):\n",
    "    norm=torch.tensor([0.0],device=device)\n",
    "    for param in params:\n",
    "        norm+=(param.grad.data**2).sum()\n",
    "    norm=norm.sqrt().item()\n",
    "    if norm>theta:\n",
    "        for param in params:\n",
    "            param.grad.data*=(theta/norm)"
   ]
  },
  {
   "cell_type": "code",
   "execution_count": 61,
   "metadata": {},
   "outputs": [],
   "source": [
    "def train_and_predict_rnn(rnn,get_params,init_rnn_state,num_hiddens,\n",
    "                         vocab_size,device,corpus_indices,idx_to_char,\n",
    "                         char_to_idx,is_random_iter,num_epochs,num_steps,\n",
    "                         lr,clipping_theta,batch_size,pred_period,pred_len,prefixes):\n",
    "    if is_random_iter:\n",
    "        data_iter_fn=d2l.data_iter_random\n",
    "    else:\n",
    "        data_iter_fn=d2l.data_iter_consecutive\n",
    "    params=get_params()\n",
    "    loss=nn.CrossEntropyLoss()\n",
    "    \n",
    "    for epoch in range(num_epochs):\n",
    "        if not is_random_iter:\n",
    "            state=init_rnn_state(batch_size,num_hiddens,device)\n",
    "        l_sum,n,start=0.0,0,time.time()\n",
    "        data_iter=data_iter_fn(corpus_indices,batch_size,num_steps,device)\n",
    "        for X,Y in data_iter:\n",
    "            if is_random_iter:\n",
    "                state=init_rnn_state(batch_size,num_hiddens,device)\n",
    "            else:\n",
    "                for s in state:\n",
    "                    s.detach_()\n",
    "                    \n",
    "            inputs=to_onehot(X,vocab_size)\n",
    "            (outputs,state)=rnn(inputs,state,params)\n",
    "            outputs=torch.cat(outputs,dim=0)\n",
    "            y=torch.transpose(Y,0,1).contiguous().view(-1)\n",
    "            l=loss(outputs,y.long())\n",
    "            \n",
    "            if params[0].grad is not None:\n",
    "                for param in params:\n",
    "                    param.grad.data.zero_()\n",
    "            l.backward()\n",
    "            grad_clipping(params,clipping_theta,device)\n",
    "            d2l.sgd(params,lr,1)\n",
    "            l_sum+=l.item()*y.shape[0]   \n",
    "            n+=y.shape[0] ##因为我这里要求的是所有epoch累计的损失函数的平均值\n",
    "            \n",
    "        if (epoch+1) % pred_period==0:\n",
    "            print('epoch %d,perplexity %f,time %.2f sec'%\n",
    "                   (epoch+1,math.exp(l_sum/n),time.time()-start))\n",
    "            for prefix in prefixes:\n",
    "                print(' -',predict_rnn(prefix,pred_len,rnn,params,\n",
    "                                       init_rnn_state,num_hiddens,vocab_size,\n",
    "                                     device,idx_to_char,char_to_idx))\n",
    "                "
   ]
  },
  {
   "cell_type": "code",
   "execution_count": 62,
   "metadata": {},
   "outputs": [
    {
     "name": "stdout",
     "output_type": "stream",
     "text": [
      "epoch 50,perplexity 68.019595,time 0.55 sec\n",
      " - 分开 我想要这生  不知我 你子我 别子就 我想就的可爱女人 坏坏的让我疯狂的可爱女人 坏坏的让我疯狂的\n",
      " - 不分开 我想要再想 我不要再想 我不要再想 我不要再想 我不要再想 我不要再想 我不要再想 我不要再想 我\n",
      "epoch 100,perplexity 9.808334,time 0.58 sec\n",
      " - 分开 有时的让我面红的可爱女人 坏坏的让我疯狂的可爱女人 坏坏的让我疯狂的可爱女人 坏坏的让我疯狂的可爱\n",
      " - 不分开亚 我不要再想 我不 我不 我不要再想你 不知不觉 你已经离生我 不知不觉 我已经这节奏 后知后觉 \n",
      "epoch 150,perplexity 2.900928,time 0.59 sec\n",
      " - 分开 有子我不抽功是 但杰个人已经不是我 没有你在 我有了烦力向 世果我遇见你是一场悲剧 我可以让生命就\n",
      " - 不分开简 我叫你烦 你打我妈 这样了看不屈 一身正气 快使用双截棍 哼哼哈兮 快使用人截棍 哼哼哈兮 快果\n",
      "epoch 200,perplexity 1.592572,time 0.61 sec\n",
      " - 分开 一只在停留仪七等我年愿的生 伤血呢木的玄武 双什激动 一颗心到现在还在抽痛 还为分手前那句抱歉 草\n",
      " - 不分开期 然后将过去 慢慢温习 让我爱上你 那场悲剧 是你完美演出的一场戏 宁愿心碎哭泣 再狠狠忘记 你爱\n",
      "epoch 250,perplexity 1.310057,time 0.55 sec\n",
      " - 分开不会再藤 一切画最 不血跳动 染红夜蒙 过去种种 你一场痛 不再不动 你都梦  不的梦空 不句变发 \n",
      " - 不分开扫把的胖女巫 用拉丁文念咒语啦啦呜 她养的黑猫笑起来像哭 啦啦啦呜 刻点酸枪 你一放空 一再不通 你\n"
     ]
    }
   ],
   "source": [
    "num_epochs,num_steps,batch_size,lr,clipping_theta=250,35,32,1e2,1e-2\n",
    "pred_period,pred_len,prefixes=50,50,['分开','不分开']\n",
    "train_and_predict_rnn(rnn,get_params,init_rnn_state,num_hiddens,\n",
    "                     vocab_size,device,corpus_indices,idx_to_char,\n",
    "                     char_to_idx,True,num_epochs,num_steps,lr,clipping_theta,batch_size,\n",
    "                     pred_period,pred_len,prefixes)"
   ]
  },
  {
   "cell_type": "code",
   "execution_count": null,
   "metadata": {},
   "outputs": [],
   "source": []
  }
 ],
 "metadata": {
  "kernelspec": {
   "display_name": "Python 3",
   "language": "python",
   "name": "python3"
  },
  "language_info": {
   "codemirror_mode": {
    "name": "ipython",
    "version": 3
   },
   "file_extension": ".py",
   "mimetype": "text/x-python",
   "name": "python",
   "nbconvert_exporter": "python",
   "pygments_lexer": "ipython3",
   "version": "3.7.6"
  }
 },
 "nbformat": 4,
 "nbformat_minor": 4
}
