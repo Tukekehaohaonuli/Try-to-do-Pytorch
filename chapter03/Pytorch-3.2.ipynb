{
 "cells": [
  {
   "cell_type": "code",
   "execution_count": 1,
   "metadata": {},
   "outputs": [
    {
     "name": "stdout",
     "output_type": "stream",
     "text": [
      "tensor([ 0.0638, -0.3907]) tensor(5.6672)\n"
     ]
    }
   ],
   "source": [
    "%matplotlib inline\n",
    "import torch\n",
    "from IPython import display\n",
    "from matplotlib import pyplot as plt\n",
    "import numpy as np\n",
    "import random\n",
    "num_inputs=2\n",
    "num_examples=1000\n",
    "true_w=[2,-3.4]\n",
    "true_b=4.2\n",
    "features=torch.randn(num_examples,num_inputs,dtype=torch.float32)\n",
    "labels=true_w[0]*features[:,0]+true_w[1]*features[:,1]+true_b\n",
    "#labels=true_w.T.dot(features)\n",
    "#print(true_w[0],'``````',true_w[1])\n",
    "labels+=torch.tensor(np.random.normal(0,0.01,size=labels.size()),dtype=torch.float32)\n",
    "print(features[0],labels[0])"
   ]
  },
  {
   "cell_type": "code",
   "execution_count": 2,
   "metadata": {
    "scrolled": true
   },
   "outputs": [
    {
     "data": {
      "text/plain": [
       "<matplotlib.collections.PathCollection at 0x22059f032c8>"
      ]
     },
     "execution_count": 2,
     "metadata": {},
     "output_type": "execute_result"
    },
    {
     "data": {
      "image/png": "[encoded data removed]",
      "text/plain": [
       "<Figure size 432x288 with 1 Axes>"
      ]
     },
     "metadata": {
      "needs_background": "light"
     },
     "output_type": "display_data"
    }
   ],
   "source": [
    "# import sys\n",
    "# sys.path.append(\"/d2lzh_pytorch/\")\n",
    "from d2lzh_pytorch import *\n",
    "plt.scatter(features[:,1].numpy(),labels.numpy(),1)"
   ]
  },
  {
   "cell_type": "code",
   "execution_count": 3,
   "metadata": {},
   "outputs": [
    {
     "name": "stdout",
     "output_type": "stream",
     "text": [
      "tensor([[-1.4689, -1.7003],\n",
      "        [-1.7153, -0.8145],\n",
      "        [-0.2653,  0.2318],\n",
      "        [ 0.7022,  1.4689],\n",
      "        [ 0.6671, -0.9303],\n",
      "        [ 0.4929,  1.5259],\n",
      "        [-0.1748,  0.2840],\n",
      "        [-1.1583, -1.1988],\n",
      "        [ 2.2288,  0.9838],\n",
      "        [ 3.7864, -1.5044]]) tensor([7.0402e+00, 3.5209e+00, 2.8941e+00, 6.0518e-01, 8.6958e+00, 3.3796e-03,\n",
      "        2.8804e+00, 5.9629e+00, 5.3112e+00, 1.6879e+01])\n"
     ]
    }
   ],
   "source": [
    "from d2lzh import *\n",
    "batch_size=10\n",
    "for X,y in data_iter(batch_size,features,labels):\n",
    "    print(X,y)\n",
    "    break"
   ]
  },
  {
   "cell_type": "code",
   "execution_count": 4,
   "metadata": {},
   "outputs": [
    {
     "name": "stdout",
     "output_type": "stream",
     "text": [
      "torch.Size([2, 1]) torch.Size([10, 2])\n"
     ]
    },
    {
     "data": {
      "text/plain": [
       "tensor([0.], requires_grad=True)"
      ]
     },
     "execution_count": 4,
     "metadata": {},
     "output_type": "execute_result"
    }
   ],
   "source": [
    "w=torch.tensor(np.random.normal(0,0.01,(num_inputs,1)),dtype=torch.float32)\n",
    "b=torch.zeros(1,dtype=torch.float32)\n",
    "print(w.shape,X.shape)\n",
    "w.requires_grad_(requires_grad=True)\n",
    "b.requires_grad_(requires_grad=True)"
   ]
  },
  {
   "cell_type": "code",
   "execution_count": 7,
   "metadata": {},
   "outputs": [
    {
     "name": "stdout",
     "output_type": "stream",
     "text": [
      "epoch 1,loss 0.000056\n",
      "epoch 2,loss 0.000056\n",
      "epoch 3,loss 0.000056\n",
      "[2, -3.4] \n",
      " tensor([[ 2.0007],\n",
      "        [-3.4007]], requires_grad=True)\n",
      "4.2 \n",
      " tensor([4.1999], requires_grad=True)\n"
     ]
    }
   ],
   "source": [
    "lr =0.03\n",
    "num_epochs=3\n",
    "net=linreg\n",
    "loss=squared_loss\n",
    "for epoch in range(num_epochs):\n",
    "    for X,y in data_iter(batch_size,features,labels):\n",
    "        l=loss(net(X,w,b),y).sum()\n",
    "        l.backward()\n",
    "        sgd([w,b],lr,batch_size)\n",
    "        \n",
    "        w.grad.data.zero_()\n",
    "        b.grad.data.zero_()\n",
    "    train_l=loss(net(features,w,b),labels)\n",
    "    print('epoch %d,loss %f' %(epoch+1,train_l.mean().item()))\n",
    "\n",
    "print(true_w,'\\n',w)\n",
    "print(true_b,'\\n',b)"
   ]
  },
  {
   "cell_type": "code",
   "execution_count": null,
   "metadata": {},
   "outputs": [],
   "source": []
  }
 ],
 "metadata": {
  "kernelspec": {
   "display_name": "Python 3",
   "language": "python",
   "name": "python3"
  },
  "language_info": {
   "codemirror_mode": {
    "name": "ipython",
    "version": 3
   },
   "file_extension": ".py",
   "mimetype": "text/x-python",
   "name": "python",
   "nbconvert_exporter": "python",
   "pygments_lexer": "ipython3",
   "version": "3.7.6"
  }
 },
 "nbformat": 4,
 "nbformat_minor": 4
}
